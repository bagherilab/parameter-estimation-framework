{
 "cells": [
  {
   "cell_type": "markdown",
   "metadata": {},
   "source": [
    "### framework outline"
   ]
  },
  {
   "cell_type": "markdown",
   "metadata": {},
   "source": [
    "```\n",
    "exit condition = objectives [regression in tumor size, avg tumor cell count < n]\n",
    "loss_f = objective function based on exit conditions\n",
    "model = whatever ML classifier \n",
    "\n",
    "while exit condition is not met:\n",
    "\n",
    "    params_to_evaluate = next item in active_learning_outputs\n",
    "\n",
    "    ### split the queue evaluation into n threads\n",
    "    for each [parameter set] in params_to_evaluate:\n",
    "        abm_outputs.add(run_java_abm([parameter set]))\n",
    "    ### merge the threads \n",
    "    \n",
    "    active_learning_outputs.add(active_learning_function(abm_outputs, loss_f, model))\n",
    "```"
   ]
  },
  {
   "cell_type": "markdown",
   "metadata": {},
   "source": [
    "### active learning outline"
   ]
  },
  {
   "cell_type": "markdown",
   "metadata": {},
   "source": [
    "```\n",
    "\n",
    "# takes in list of abm output values\n",
    "# returns list of parameters for parameterization towards goal\n",
    "\n",
    "def active_learning_function(abm_outputs, loss_f, model):\n",
    "    obj_function = loss_f\n",
    "    initial_parameters = random_sample(abm_outputs)\n",
    "    unevaluated_params = abm_outputs\n",
    "    evaluated_params = []\n",
    "\n",
    "    loss = loss_f(initial_parameters)\n",
    "    evaluated_params.add(initial_parameters)\n",
    "    unevaluated_params.remove(initial_parameters)\n",
    "    model.train(evaluated_params)\n",
    "\n",
    "    while cross validation metric not satisfied in model and iterations < maximum iterations:\n",
    "        probabilities = model.calculate_probabilities(unevaluated_params)\n",
    "        clusters = k_means(probabilities)\n",
    "        uncertain_points = all points in clusters w/ probability closest to 0.5\n",
    "        random_points = random_sample(unevaluated_params - uncertain_points)\n",
    "        loss = obj_function(uncertain_points, random_points)\n",
    "        evaluated_params.add(uncertain_points, random_points)\n",
    "        unevaluated_params.remove(uncertain_points, random_points)\n",
    "        model.train(evaluated_params)\n",
    "\n",
    "    return model.predict(unevaluated_points)\n",
    "\n",
    "```"
   ]
  },
  {
   "cell_type": "markdown",
   "metadata": {},
   "source": [
    "### run java abm outline"
   ]
  },
  {
   "cell_type": "markdown",
   "metadata": {},
   "source": [
    "```\n",
    "# takes in dictionary of parameters values and runs java abm program\n",
    "# returns list of output values from abm\n",
    "\n",
    "def run_java_abm(parameter_dict):\n",
    "\n",
    "    xml_input_file = xml_encoder(parameter_dict)\n",
    "\n",
    "    # call java program inside of python script\n",
    "    xml_output_file = abm(xml_input_file)\n",
    "\n",
    "    return xml_decoder(xml_output_file)\n",
    "\n",
    "```"
   ]
  },
  {
   "cell_type": "markdown",
   "metadata": {},
   "source": [
    "### xml encoder/decoder"
   ]
  },
  {
   "cell_type": "markdown",
   "metadata": {},
   "source": [
    "```\n",
    "# takes in dictionary of parameter:value sets\n",
    "# returns xml file with parameter values\n",
    "\n",
    "def xml encoder(parameter_dict):\n",
    "    # some encoding according to expected file format\n",
    "    # write to file\n",
    "    return xml_file\n",
    "```"
   ]
  },
  {
   "cell_type": "markdown",
   "metadata": {},
   "source": [
    "```\n",
    "# takes in xml file\n",
    "# returns dictionary of abm output values\n",
    "\n",
    "def xml encoder(xml_file):\n",
    "    # some parsing according to file format\n",
    "    # add to dictionary\n",
    "    return output_dict\n",
    "```"
   ]
  }
 ],
 "metadata": {
  "language_info": {
   "name": "python"
  }
 },
 "nbformat": 4,
 "nbformat_minor": 2
}
